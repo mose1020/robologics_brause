{
 "cells": [
  {
   "cell_type": "code",
   "execution_count": null,
   "metadata": {},
   "outputs": [],
   "source": [
    "from ultralytics import YOLO\n",
    "import torch\n",
    "import matplotlib.pyplot as plt\n",
    "import numpy as np\n",
    "from PIL import Image\n",
    "from IPython import display\n",
    "import cv2\n",
    "from scipy.interpolate import splprep, splev\n",
    "import os"
   ]
  },
  {
   "cell_type": "code",
   "execution_count": null,
   "metadata": {},
   "outputs": [],
   "source": [
    "model = YOLO(model='/home/sebastian/robogistics/robologics_brause/src/robogistics_brause/robogistics_brause/object_detection/Yolov8_model/weights/best.pt')\n",
    "img_path = '/home/sebastian/robogistics/robologics_brause/src/robogistics_brause/robogistics_brause/object_detection/sebbi.png'\n"
   ]
  },
  {
   "cell_type": "code",
   "execution_count": null,
   "metadata": {},
   "outputs": [],
   "source": [
    "display.Image(img_path)"
   ]
  },
  {
   "cell_type": "code",
   "execution_count": null,
   "metadata": {},
   "outputs": [],
   "source": [
    "img = cv2.imread(img_path)\n",
    "results = model.predict(source=img_path, save=False, save_txt=False, stream=True)\n",
    "for result in results: # only on result in results\n",
    "    \n",
    "    # get array results\n",
    "    all_masks = result.masks.data\n",
    "    boxes = result.boxes.data\n",
    "    color = boxes[:, 5] #\n",
    "    idx_masks_color = torch.where(color == 0) # index of the chosen coulour\n",
    "    # use these indices to extract the relevant masks\n",
    "    for index in idx_masks_color:\n",
    "        color_masks = all_masks[index]\n",
    "        result_masks = [[],[]]\n",
    "        for i in range(len(color_masks)):\n",
    "\n",
    "            result_mask = color_masks[i].cpu().numpy()\n",
    "            result_masks[0].append(np.count_nonzero(result_mask))\n",
    "            result_masks[1].append(result_mask)\n",
    "\n",
    "final_mask_size_list, final_mask_list = (list(t) for t in zip(*sorted(zip(result_masks[0], result_masks[1]), reverse=True)))\n",
    "\n",
    "\n",
    "binary_array = np.where(final_mask_list[0] != 0, 1, 0)\n",
    "\n",
    "binary_array = binary_array.astype('uint8')\n",
    "\n",
    "resized_binary_array = cv2.resize(binary_array,(1280, 720))\n",
    "#resized_binary_array = np.resize(binary_array, (img.shape[0], img.shape[1]))\n",
    "\n",
    "binary_image = Image.fromarray(resized_binary_array.astype('uint8')*255)\n",
    "\n",
    "binary_image.save('binary_image.png')\n",
    "\n",
    "    "
   ]
  },
  {
   "cell_type": "code",
   "execution_count": null,
   "metadata": {},
   "outputs": [],
   "source": [
    "def getPixelCoordinates(mask, color_image):\n",
    "        \n",
    "        \n",
    "        contours, hierarchy = cv2.findContours(mask, cv2.RETR_TREE, cv2.CHAIN_APPROX_SIMPLE) # find contours\n",
    "        biggest_contour = max(contours, key = cv2.contourArea) # find the biggest contour (c) by the area\n",
    "\n",
    "        # find the center of the contour\n",
    "        M = cv2.moments(biggest_contour)\n",
    "        x_pixelkoordinate = int(M['m10']/M['m00'])\n",
    "        y_pixelkoordinate = int(M['m01']/M['m00'])\n",
    "\n",
    "        # find the spline\n",
    "        tck, u = splprep(biggest_contour[:,0,:].T, s=0.0)    \n",
    "        u_new = np.linspace(u.min(), u.max(), 1000) \n",
    "        x_new, y_new = splev(u_new, tck, der=0)\n",
    "\n",
    "        # Create the \"images\" folder if it doesn't exist\n",
    "        filename = \"binary_YOLO_test.png\"\n",
    "        # Show the original image with the contour\n",
    "        image = cv2.cvtColor(color_image, cv2.COLOR_BGR2RGB)\n",
    "        plt.figure(figsize=(8, 8))\n",
    "        plt.imshow(image)\n",
    "        plt.plot(x_new, y_new, 'r')\n",
    "        plt.plot(x_pixelkoordinate, y_pixelkoordinate, 'bo') \n",
    "\n",
    "        # Save the plot image in the \"images_realsense/\" folder with the filename\n",
    "        plt.savefig(filename)\n",
    "\n",
    "        return x_pixelkoordinate, y_pixelkoordinate"
   ]
  },
  {
   "cell_type": "code",
   "execution_count": null,
   "metadata": {},
   "outputs": [],
   "source": [
    "binary_array = binary_array.astype('uint8')\n",
    "resized_binary_array = resized_binary_array.astype('uint8')\n",
    "\n",
    "\n",
    "\n",
    "x,y = getPixelCoordinates(resized_binary_array, img)\n",
    "\n"
   ]
  }
 ],
 "metadata": {
  "kernelspec": {
   "display_name": "Python 3",
   "language": "python",
   "name": "python3"
  },
  "language_info": {
   "codemirror_mode": {
    "name": "ipython",
    "version": 3
   },
   "file_extension": ".py",
   "mimetype": "text/x-python",
   "name": "python",
   "nbconvert_exporter": "python",
   "pygments_lexer": "ipython3",
   "version": "3.10.6"
  },
  "orig_nbformat": 4
 },
 "nbformat": 4,
 "nbformat_minor": 2
}
